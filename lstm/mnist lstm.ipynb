{
 "cells": [
  {
   "cell_type": "code",
   "execution_count": 1,
   "metadata": {},
   "outputs": [],
   "source": [
    "import numpy as np"
   ]
  },
  {
   "cell_type": "code",
   "execution_count": 2,
   "metadata": {},
   "outputs": [],
   "source": [
    "import idx2numpy\n",
    "\n",
    "y_train = idx2numpy.convert_from_file('../dataset/train-labels.idx1-ubyte')\n",
    "y_test = idx2numpy.convert_from_file('../dataset/t10k-labels.idx1-ubyte')"
   ]
  },
  {
   "cell_type": "code",
   "execution_count": 3,
   "metadata": {},
   "outputs": [],
   "source": [
    "text = ''"
   ]
  },
  {
   "cell_type": "code",
   "execution_count": 4,
   "metadata": {},
   "outputs": [],
   "source": [
    "for x in y_train:\n",
    "    text+=str(x)"
   ]
  },
  {
   "cell_type": "code",
   "execution_count": 5,
   "metadata": {},
   "outputs": [],
   "source": [
    "for x in y_test:\n",
    "    text+=str(x)"
   ]
  },
  {
   "cell_type": "code",
   "execution_count": 6,
   "metadata": {},
   "outputs": [
    {
     "name": "stdout",
     "output_type": "stream",
     "text": [
      "70000\n",
      "504192131\n"
     ]
    }
   ],
   "source": [
    "print (len(text))\n",
    "print (text[0:9])"
   ]
  },
  {
   "cell_type": "code",
   "execution_count": 17,
   "metadata": {},
   "outputs": [
    {
     "name": "stdout",
     "output_type": "stream",
     "text": [
      "Number of sequences: 23317\n",
      "Unique characters: 10\n",
      "Vectorization...\n"
     ]
    }
   ],
   "source": [
    "# Length of extracted character sequences\n",
    "maxlen = 50\n",
    "\n",
    "# We sample a new sequence every `step` characters\n",
    "step = 3\n",
    "\n",
    "# This holds our extracted sequences\n",
    "sentences = []\n",
    "\n",
    "# This holds the targets (the follow-up characters)\n",
    "next_chars = []\n",
    "\n",
    "for i in range(0, len(text) - maxlen, step):\n",
    "    sentences.append(text[i: i + maxlen])\n",
    "    next_chars.append(text[i + maxlen])\n",
    "print('Number of sequences:', len(sentences))\n",
    "\n",
    "# List of unique characters in the corpus\n",
    "chars = sorted(list(set(text)))\n",
    "print('Unique characters:', len(chars))\n",
    "# Dictionary mapping unique characters to their index in `chars`\n",
    "char_indices = dict((char, chars.index(char)) for char in chars)\n",
    "\n",
    "# Next, one-hot encode the characters into binary arrays.\n",
    "print('Vectorization...')\n",
    "x_data = np.zeros((len(sentences), maxlen, len(chars)), dtype=np.bool)\n",
    "y_data = np.zeros((len(sentences), len(chars)), dtype=np.bool)\n",
    "for i, sentence in enumerate(sentences):\n",
    "    for t, char in enumerate(sentence):\n",
    "        x_data[i, t, char_indices[char]] = 1\n",
    "    y_data[i, char_indices[next_chars[i]]] = 1"
   ]
  },
  {
   "cell_type": "code",
   "execution_count": 18,
   "metadata": {},
   "outputs": [],
   "source": [
    "from keras import layers, models, optimizers\n",
    "\n",
    "model = models.Sequential()\n",
    "model.add(layers.LSTM(256, input_shape=(maxlen, len(chars))))\n",
    "model.add(layers.Dense(len(chars), activation='softmax'))"
   ]
  },
  {
   "cell_type": "code",
   "execution_count": 19,
   "metadata": {},
   "outputs": [],
   "source": [
    "optimizer = optimizers.RMSprop(lr=0.01)\n",
    "model.compile(loss='categorical_crossentropy', optimizer=optimizer)"
   ]
  },
  {
   "cell_type": "code",
   "execution_count": 20,
   "metadata": {},
   "outputs": [],
   "source": [
    "def sample(preds, temperature=1.0):\n",
    "    preds = np.asarray(preds).astype('float64')\n",
    "    preds = np.log(preds) / temperature\n",
    "    exp_preds = np.exp(preds)\n",
    "    preds = exp_preds / np.sum(exp_preds)\n",
    "    probas = np.random.multinomial(1, preds, 1)\n",
    "    return np.argmax(probas)"
   ]
  },
  {
   "cell_type": "code",
   "execution_count": 22,
   "metadata": {},
   "outputs": [
    {
     "name": "stdout",
     "output_type": "stream",
     "text": [
      "Epoch 1/1\n",
      "23317/23317 [==============================] - 13s 537us/step - loss: 2.4887\n"
     ]
    },
    {
     "data": {
      "text/plain": [
       "<keras.callbacks.History at 0x7efd15aadb00>"
      ]
     },
     "execution_count": 22,
     "metadata": {},
     "output_type": "execute_result"
    }
   ],
   "source": [
    "# Fit the model for 1 epoch on the available training data\n",
    "model.fit(x_data, y_data, batch_size=128, epochs=1)"
   ]
  },
  {
   "cell_type": "code",
   "execution_count": 23,
   "metadata": {},
   "outputs": [
    {
     "name": "stdout",
     "output_type": "stream",
     "text": [
      "Seed Text 0: \"56972849801172032435269778793690681022636779642701\"\n",
      "OG Text   0: \"69611731041010342167951781437373712689373493408235\"\n",
      "\n",
      "Seed Text 1: \"03842043193092073121509766221287166006599478049333\"\n",
      "OG Text   1: \"37782055389380760883470815318840615213341728490051\"\n",
      "\n",
      "Seed Text 2: \"30311902137775612792380790515986940172538163656354\"\n",
      "OG Text   2: \"01060880082934992216305112739546272899300112443536\"\n",
      "\n"
     ]
    }
   ],
   "source": [
    "import random\n",
    "import sys\n",
    "\n",
    "chars_to_generate = 50\n",
    "test_to_perform = 3\n",
    "\n",
    "seed_text = []\n",
    "text_to_generate = []\n",
    "\n",
    "for epoch in range(test_to_perform):\n",
    "\n",
    "    # Select a text seed at random\n",
    "    start_index = random.randint(0, len(text) - maxlen - 1)\n",
    "    end_index = start_index + maxlen\n",
    "    \n",
    "    seed_text.append(text[start_index: end_index])\n",
    "    text_to_generate.append(text[end_index: end_index + chars_to_generate])\n",
    "\n",
    "    \n",
    "    print('Seed Text {}: \"'.format(epoch) + str(seed_text[epoch]) + '\"')\n",
    "    print('OG Text   {}: \"'.format(epoch) + str(text_to_generate[epoch]) + '\"')       \n",
    "    print()\n",
    "    #model.save('model_epoch_{}.hdf5'.format(epoch))\n",
    "    #model.save_weights('text_generator_gigantic_weights{}.h5'.format(epoch))"
   ]
  },
  {
   "cell_type": "code",
   "execution_count": 24,
   "metadata": {
    "scrolled": true
   },
   "outputs": [
    {
     "name": "stdout",
     "output_type": "stream",
     "text": [
      "------ temperature: 0.2\n",
      "44444444444444444444444444444444444444444444444444\n",
      "------ temperature: 0.5\n",
      "49253141444444442448414143344111834434424448434492\n",
      "------ temperature: 1.0\n",
      "11194284414913144845914844624837111742381149342480\n",
      "------ temperature: 1.2\n",
      "15921753171921414456346131549248520321814933275709\n",
      "------ temperature: 0.2\n",
      "44444444444444444444444444444444444444444444444444\n",
      "------ temperature: 0.5\n",
      "92458449942421444484449444414813444145443844484814\n",
      "------ temperature: 1.0\n",
      "41745443883922464841283985105543449448348645424481\n",
      "------ temperature: 1.2\n",
      "49864483714684294292522481891824143441234985731743\n",
      "------ temperature: 0.2\n",
      "41444444444444444444444444444444444444444444444444\n",
      "------ temperature: 0.5\n",
      "44444547442449544441447445444817444144444414444735\n",
      "------ temperature: 1.0\n",
      "57453884134441911282504645041121031514115103154815\n",
      "------ temperature: 1.2\n",
      "21394661081243472192598284738380514445459898453151\n"
     ]
    }
   ],
   "source": [
    "text_generated_0_2 = []\n",
    "text_generated_0_5 = []\n",
    "text_generated_1_0 = []\n",
    "text_generated_1_2 = []\n",
    "\n",
    "for x in range(len(seed_text)):\n",
    "    \n",
    "    for temperature in [0.2, 0.5, 1.0, 1.2]:\n",
    "        print('------ temperature:', temperature)\n",
    "        gentext = ''\n",
    "        # We generate 50 characters\n",
    "        for i in range(chars_to_generate):\n",
    "            sampled = np.zeros((1, maxlen, len(chars)))\n",
    "            for t, char in enumerate(seed_text[x]):\n",
    "                sampled[0, t, char_indices[char]] = 1.\n",
    "\n",
    "            preds = model.predict(sampled, verbose=0)[0]\n",
    "            next_index = sample(preds, temperature)\n",
    "            next_char = chars[next_index]\n",
    "\n",
    "            gentext += '{}'.format(next_char)\n",
    "            \n",
    "            sys.stdout.write(next_char)\n",
    "            sys.stdout.flush()\n",
    "        print()\n",
    "        \n",
    "        if temperature == 0.2:\n",
    "            text_generated_0_2.append(gentext)\n",
    "        if temperature == 0.5:\n",
    "            text_generated_0_5.append(gentext)\n",
    "        if temperature == 1.0:\n",
    "            text_generated_1_0.append(gentext)\n",
    "        if temperature == 1.2:\n",
    "            text_generated_1_2.append(gentext)"
   ]
  },
  {
   "cell_type": "code",
   "execution_count": 25,
   "metadata": {},
   "outputs": [
    {
     "name": "stdout",
     "output_type": "stream",
     "text": [
      "0 seed text:             56972849801172032435269778793690681022636779642701\n",
      "0 text to be generated:  69611731041010342167951781437373712689373493408235\n",
      "0 text generated 0.2:    44444444444444444444444444444444444444444444444444\n",
      "0 text generated 0.5:    49253141444444442448414143344111834434424448434492\n",
      "0 text generated 1.0:    11194284414913144845914844624837111742381149342480\n",
      "0 text generated 1.2:    15921753171921414456346131549248520321814933275709\n",
      "\n",
      "1 seed text:             03842043193092073121509766221287166006599478049333\n",
      "1 text to be generated:  37782055389380760883470815318840615213341728490051\n",
      "1 text generated 0.2:    44444444444444444444444444444444444444444444444444\n",
      "1 text generated 0.5:    92458449942421444484449444414813444145443844484814\n",
      "1 text generated 1.0:    41745443883922464841283985105543449448348645424481\n",
      "1 text generated 1.2:    49864483714684294292522481891824143441234985731743\n",
      "\n",
      "2 seed text:             30311902137775612792380790515986940172538163656354\n",
      "2 text to be generated:  01060880082934992216305112739546272899300112443536\n",
      "2 text generated 0.2:    41444444444444444444444444444444444444444444444444\n",
      "2 text generated 0.5:    44444547442449544441447445444817444144444414444735\n",
      "2 text generated 1.0:    57453884134441911282504645041121031514115103154815\n",
      "2 text generated 1.2:    21394661081243472192598284738380514445459898453151\n",
      "\n"
     ]
    }
   ],
   "source": [
    "for x in range(test_to_perform):\n",
    "    print ('{} seed text:            '.format(x), seed_text[x])\n",
    "    print ('{} text to be generated: '.format(x), text_to_generate[x])\n",
    "    print ('{} text generated 0.2:   '.format(x), text_generated_0_2[x])\n",
    "    print ('{} text generated 0.5:   '.format(x), text_generated_0_5[x])\n",
    "    print ('{} text generated 1.0:   '.format(x), text_generated_1_0[x])\n",
    "    print ('{} text generated 1.2:   '.format(x), text_generated_1_2[x])\n",
    "    print ()"
   ]
  },
  {
   "cell_type": "code",
   "execution_count": 26,
   "metadata": {},
   "outputs": [
    {
     "name": "stdout",
     "output_type": "stream",
     "text": [
      "\n",
      "temp 0.2\n",
      "5 10.0\n",
      "4 8.0\n",
      "5 10.0\n",
      "\n",
      "temp 0.5\n",
      "7 14.000000000000002\n",
      "6 12.0\n",
      "5 10.0\n",
      "\n",
      "temp 1.0\n",
      "5 10.0\n",
      "10 20.0\n",
      "6 12.0\n",
      "\n",
      "temp 1.2\n",
      "5 10.0\n",
      "2 4.0\n",
      "8 16.0\n"
     ]
    }
   ],
   "source": [
    "count_0_2 = []\n",
    "per_0_2 = []\n",
    "count_0_5 = []\n",
    "per_0_5 = []\n",
    "count_1_0 = []\n",
    "per_1_0 = []\n",
    "count_1_2 = []\n",
    "per_1_2 = []\n",
    "\n",
    "for y in range(test_to_perform):\n",
    "    a=0\n",
    "    for x in range(chars_to_generate):\n",
    "        if text_to_generate[y][x] == text_generated_0_2[y][x]:\n",
    "            a+=1\n",
    "    count_0_2.append(a)\n",
    "    per_0_2.append((a/chars_to_generate)*100)\n",
    "\n",
    "\n",
    "for y in range(test_to_perform):\n",
    "    a=0\n",
    "    for x in range(chars_to_generate):\n",
    "        if text_to_generate[y][x] == text_generated_0_5[y][x]:\n",
    "            a+=1\n",
    "    count_0_5.append(a)\n",
    "    per_0_5.append((a/chars_to_generate)*100)\n",
    "\n",
    "    \n",
    "for y in range(test_to_perform):\n",
    "    a=0\n",
    "    for x in range(chars_to_generate):\n",
    "        if text_to_generate[y][x] == text_generated_1_0[y][x]:\n",
    "            a+=1\n",
    "    count_1_0.append(a)\n",
    "    per_1_0.append((a/chars_to_generate)*100)\n",
    "\n",
    "    \n",
    "for y in range(test_to_perform):\n",
    "    a=0\n",
    "    for x in range(chars_to_generate):\n",
    "        if text_to_generate[y][x] == text_generated_1_2[y][x]:\n",
    "            a+=1\n",
    "    count_1_2.append(a)\n",
    "    per_1_2.append((a/chars_to_generate)*100)\n",
    "\n",
    "print()\n",
    "print ('temp 0.2')\n",
    "for x in range(test_to_perform):\n",
    "    print (count_0_2[x], per_0_2[x])\n",
    "    \n",
    "print()\n",
    "print ('temp 0.5')\n",
    "for x in range(test_to_perform):\n",
    "    print (count_0_5[x], per_0_5[x])\n",
    "\n",
    "print()\n",
    "print ('temp 1.0')\n",
    "for x in range(test_to_perform):\n",
    "    print (count_1_0[x], per_1_0[x])\n",
    "\n",
    "print()\n",
    "print ('temp 1.2')\n",
    "for x in range(test_to_perform):\n",
    "    print (count_1_2[x], per_1_2[x])\n"
   ]
  },
  {
   "cell_type": "markdown",
   "metadata": {},
   "source": [
    "## Additional Training"
   ]
  },
  {
   "cell_type": "code",
   "execution_count": 27,
   "metadata": {
    "scrolled": true
   },
   "outputs": [
    {
     "name": "stdout",
     "output_type": "stream",
     "text": [
      "Epoch 1/9\n",
      "23317/23317 [==============================] - 11s 473us/step - loss: 2.4358\n",
      "Epoch 2/9\n",
      "23317/23317 [==============================] - 11s 461us/step - loss: 2.3482\n",
      "Epoch 3/9\n",
      "23317/23317 [==============================] - 11s 461us/step - loss: 2.3392\n",
      "Epoch 4/9\n",
      "23317/23317 [==============================] - 11s 461us/step - loss: 2.3426\n",
      "Epoch 5/9\n",
      "23317/23317 [==============================] - 11s 461us/step - loss: 2.3340\n",
      "Epoch 6/9\n",
      "23317/23317 [==============================] - 11s 461us/step - loss: 2.3258\n",
      "Epoch 7/9\n",
      "23317/23317 [==============================] - 12s 498us/step - loss: 2.3174\n",
      "Epoch 8/9\n",
      "23317/23317 [==============================] - 12s 503us/step - loss: 2.3025\n",
      "Epoch 9/9\n",
      "23317/23317 [==============================] - 11s 487us/step - loss: 2.2333\n"
     ]
    },
    {
     "data": {
      "text/plain": [
       "<keras.callbacks.History at 0x7efd16358e48>"
      ]
     },
     "execution_count": 27,
     "metadata": {},
     "output_type": "execute_result"
    }
   ],
   "source": [
    "# Fit the model for more 10 epoch on the data\n",
    "model.fit(x_data, y_data, batch_size=128, epochs=9)"
   ]
  },
  {
   "cell_type": "code",
   "execution_count": 28,
   "metadata": {
    "scrolled": true
   },
   "outputs": [
    {
     "name": "stdout",
     "output_type": "stream",
     "text": [
      "------ temperature: 0.2\n",
      "11211711112111221211221111111111211110111111111111\n",
      "------ temperature: 0.5\n",
      "21111600597311112112110233126011312616202114682141\n",
      "------ temperature: 1.0\n",
      "12313010531146214854652190232741112262738406511406\n",
      "------ temperature: 1.2\n",
      "74324341480030811752472165021150039991096122811213\n",
      "------ temperature: 0.2\n",
      "47444643444331403344464304444474434444640364444444\n",
      "------ temperature: 0.5\n",
      "34943334443440660453073134444193306349436357330747\n",
      "------ temperature: 1.0\n",
      "34596337974614244443304439626716283374473272834433\n",
      "------ temperature: 1.2\n",
      "57396792480783374141197427369653543533459004872753\n",
      "------ temperature: 0.2\n",
      "00363866363026060042600622603310666303431366486336\n",
      "------ temperature: 0.5\n",
      "16306216066743160944003225666393933726973332633380\n",
      "------ temperature: 1.0\n",
      "20262335608453547354565701665047360632977763060766\n",
      "------ temperature: 1.2\n",
      "36403063714614637362755526150663931802907185319326\n"
     ]
    }
   ],
   "source": [
    "text_generated_0_2 = []\n",
    "text_generated_0_5 = []\n",
    "text_generated_1_0 = []\n",
    "text_generated_1_2 = []\n",
    "\n",
    "for x in range(len(seed_text)):\n",
    "    \n",
    "    for temperature in [0.2, 0.5, 1.0, 1.2]:\n",
    "        print('------ temperature:', temperature)\n",
    "        gentext = ''\n",
    "        # We generate 50 characters\n",
    "        for i in range(chars_to_generate):\n",
    "            sampled = np.zeros((1, maxlen, len(chars)))\n",
    "            for t, char in enumerate(seed_text[x]):\n",
    "                sampled[0, t, char_indices[char]] = 1.\n",
    "\n",
    "            preds = model.predict(sampled, verbose=0)[0]\n",
    "            next_index = sample(preds, temperature)\n",
    "            next_char = chars[next_index]\n",
    "\n",
    "            gentext += '{}'.format(next_char)\n",
    "            \n",
    "            sys.stdout.write(next_char)\n",
    "            sys.stdout.flush()\n",
    "        print()\n",
    "        \n",
    "        if temperature == 0.2:\n",
    "            text_generated_0_2.append(gentext)\n",
    "        if temperature == 0.5:\n",
    "            text_generated_0_5.append(gentext)\n",
    "        if temperature == 1.0:\n",
    "            text_generated_1_0.append(gentext)\n",
    "        if temperature == 1.2:\n",
    "            text_generated_1_2.append(gentext)"
   ]
  },
  {
   "cell_type": "code",
   "execution_count": 29,
   "metadata": {},
   "outputs": [
    {
     "name": "stdout",
     "output_type": "stream",
     "text": [
      "0 seed text:             56972849801172032435269778793690681022636779642701\n",
      "0 text to be generated:  69611731041010342167951781437373712689373493408235\n",
      "0 text generated 0.2:    11211711112111221211221111111111211110111111111111\n",
      "0 text generated 0.5:    21111600597311112112110233126011312616202114682141\n",
      "0 text generated 1.0:    12313010531146214854652190232741112262738406511406\n",
      "0 text generated 1.2:    74324341480030811752472165021150039991096122811213\n",
      "\n",
      "1 seed text:             03842043193092073121509766221287166006599478049333\n",
      "1 text to be generated:  37782055389380760883470815318840615213341728490051\n",
      "1 text generated 0.2:    47444643444331403344464304444474434444640364444444\n",
      "1 text generated 0.5:    34943334443440660453073134444193306349436357330747\n",
      "1 text generated 1.0:    34596337974614244443304439626716283374473272834433\n",
      "1 text generated 1.2:    57396792480783374141197427369653543533459004872753\n",
      "\n",
      "2 seed text:             30311902137775612792380790515986940172538163656354\n",
      "2 text to be generated:  01060880082934992216305112739546272899300112443536\n",
      "2 text generated 0.2:    00363866363026060042600622603310666303431366486336\n",
      "2 text generated 0.5:    16306216066743160944003225666393933726973332633380\n",
      "2 text generated 1.0:    20262335608453547354565701665047360632977763060766\n",
      "2 text generated 1.2:    36403063714614637362755526150663931802907185319326\n",
      "\n"
     ]
    }
   ],
   "source": [
    "for x in range(test_to_perform,test_to_perform+9):\n",
    "    print ('{} seed text:            '.format(x), seed_text[x])\n",
    "    print ('{} text to be generated: '.format(x), text_to_generate[x])\n",
    "    print ('{} text generated 0.2:   '.format(x), text_generated_0_2[x])\n",
    "    print ('{} text generated 0.5:   '.format(x), text_generated_0_5[x])\n",
    "    print ('{} text generated 1.0:   '.format(x), text_generated_1_0[x])\n",
    "    print ('{} text generated 1.2:   '.format(x), text_generated_1_2[x])\n",
    "    print ()"
   ]
  },
  {
   "cell_type": "code",
   "execution_count": 26,
   "metadata": {},
   "outputs": [
    {
     "name": "stdout",
     "output_type": "stream",
     "text": [
      "\n",
      "temp 0.2\n",
      "5 10.0\n",
      "4 8.0\n",
      "5 10.0\n",
      "\n",
      "temp 0.5\n",
      "7 14.000000000000002\n",
      "6 12.0\n",
      "5 10.0\n",
      "\n",
      "temp 1.0\n",
      "5 10.0\n",
      "10 20.0\n",
      "6 12.0\n",
      "\n",
      "temp 1.2\n",
      "5 10.0\n",
      "2 4.0\n",
      "8 16.0\n"
     ]
    }
   ],
   "source": [
    "count_0_2 = []\n",
    "per_0_2 = []\n",
    "count_0_5 = []\n",
    "per_0_5 = []\n",
    "count_1_0 = []\n",
    "per_1_0 = []\n",
    "count_1_2 = []\n",
    "per_1_2 = []\n",
    "\n",
    "for y in range(test_to_perform):\n",
    "    a=0\n",
    "    for x in range(chars_to_generate):\n",
    "        if text_to_generate[y][x] == text_generated_0_2[y][x]:\n",
    "            a+=1\n",
    "    count_0_2.append(a)\n",
    "    per_0_2.append((a/chars_to_generate)*100)\n",
    "\n",
    "\n",
    "for y in range(test_to_perform):\n",
    "    a=0\n",
    "    for x in range(chars_to_generate):\n",
    "        if text_to_generate[y][x] == text_generated_0_5[y][x]:\n",
    "            a+=1\n",
    "    count_0_5.append(a)\n",
    "    per_0_5.append((a/chars_to_generate)*100)\n",
    "\n",
    "    \n",
    "for y in range(test_to_perform):\n",
    "    a=0\n",
    "    for x in range(chars_to_generate):\n",
    "        if text_to_generate[y][x] == text_generated_1_0[y][x]:\n",
    "            a+=1\n",
    "    count_1_0.append(a)\n",
    "    per_1_0.append((a/chars_to_generate)*100)\n",
    "\n",
    "    \n",
    "for y in range(test_to_perform):\n",
    "    a=0\n",
    "    for x in range(chars_to_generate):\n",
    "        if text_to_generate[y][x] == text_generated_1_2[y][x]:\n",
    "            a+=1\n",
    "    count_1_2.append(a)\n",
    "    per_1_2.append((a/chars_to_generate)*100)\n",
    "\n",
    "print()\n",
    "print ('temp 0.2')\n",
    "for x in range(test_to_perform):\n",
    "    print (count_0_2[x], per_0_2[x])\n",
    "    \n",
    "print()\n",
    "print ('temp 0.5')\n",
    "for x in range(test_to_perform):\n",
    "    print (count_0_5[x], per_0_5[x])\n",
    "\n",
    "print()\n",
    "print ('temp 1.0')\n",
    "for x in range(test_to_perform):\n",
    "    print (count_1_0[x], per_1_0[x])\n",
    "\n",
    "print()\n",
    "print ('temp 1.2')\n",
    "for x in range(test_to_perform):\n",
    "    print (count_1_2[x], per_1_2[x])\n"
   ]
  },
  {
   "cell_type": "code",
   "execution_count": null,
   "metadata": {},
   "outputs": [],
   "source": []
  }
 ],
 "metadata": {
  "kernelspec": {
   "display_name": "Python 3",
   "language": "python",
   "name": "python3"
  },
  "language_info": {
   "codemirror_mode": {
    "name": "ipython",
    "version": 3
   },
   "file_extension": ".py",
   "mimetype": "text/x-python",
   "name": "python",
   "nbconvert_exporter": "python",
   "pygments_lexer": "ipython3",
   "version": "3.6.4"
  },
  "varInspector": {
   "cols": {
    "lenName": 16,
    "lenType": 16,
    "lenVar": 40
   },
   "kernels_config": {
    "python": {
     "delete_cmd_postfix": "",
     "delete_cmd_prefix": "del ",
     "library": "var_list.py",
     "varRefreshCmd": "print(var_dic_list())"
    },
    "r": {
     "delete_cmd_postfix": ") ",
     "delete_cmd_prefix": "rm(",
     "library": "var_list.r",
     "varRefreshCmd": "cat(var_dic_list()) "
    }
   },
   "position": {
    "height": "419px",
    "left": "1485px",
    "right": "20px",
    "top": "120px",
    "width": "350px"
   },
   "types_to_exclude": [
    "module",
    "function",
    "builtin_function_or_method",
    "instance",
    "_Feature"
   ],
   "window_display": true
  }
 },
 "nbformat": 4,
 "nbformat_minor": 2
}
