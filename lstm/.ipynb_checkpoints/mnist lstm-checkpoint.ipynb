{
 "cells": [
  {
   "cell_type": "code",
   "execution_count": 1,
   "metadata": {},
   "outputs": [],
   "source": [
    "import numpy as np"
   ]
  },
  {
   "cell_type": "code",
   "execution_count": 2,
   "metadata": {},
   "outputs": [],
   "source": [
    "import idx2numpy\n",
    "\n",
    "y_train = idx2numpy.convert_from_file('../dataset/train-labels.idx1-ubyte')\n",
    "y_test = idx2numpy.convert_from_file('../dataset/t10k-labels.idx1-ubyte')"
   ]
  },
  {
   "cell_type": "code",
   "execution_count": 3,
   "metadata": {},
   "outputs": [],
   "source": [
    "text = ''"
   ]
  },
  {
   "cell_type": "code",
   "execution_count": 4,
   "metadata": {},
   "outputs": [],
   "source": [
    "for x in y_train:\n",
    "    text+=str(x)"
   ]
  },
  {
   "cell_type": "code",
   "execution_count": 5,
   "metadata": {},
   "outputs": [],
   "source": [
    "for x in y_test:\n",
    "    text+=str(x)"
   ]
  },
  {
   "cell_type": "code",
   "execution_count": 6,
   "metadata": {},
   "outputs": [
    {
     "name": "stdout",
     "output_type": "stream",
     "text": [
      "70000\n",
      "504192131\n"
     ]
    }
   ],
   "source": [
    "print (len(text))\n",
    "print (text[0:9])"
   ]
  },
  {
   "cell_type": "code",
   "execution_count": 7,
   "metadata": {},
   "outputs": [
    {
     "name": "stdout",
     "output_type": "stream",
     "text": [
      "Number of sequences: 23317\n",
      "Unique characters: 10\n",
      "Vectorization...\n"
     ]
    }
   ],
   "source": [
    "# Length of extracted character sequences\n",
    "maxlen = 50\n",
    "\n",
    "# We sample a new sequence every `step` characters\n",
    "step = 3\n",
    "\n",
    "# This holds our extracted sequences\n",
    "sentences = []\n",
    "\n",
    "# This holds the targets (the follow-up characters)\n",
    "next_chars = []\n",
    "\n",
    "for i in range(0, len(text) - maxlen, step):\n",
    "    sentences.append(text[i: i + maxlen])\n",
    "    next_chars.append(text[i + maxlen])\n",
    "print('Number of sequences:', len(sentences))\n",
    "\n",
    "# List of unique characters in the corpus\n",
    "chars = sorted(list(set(text)))\n",
    "print('Unique characters:', len(chars))\n",
    "# Dictionary mapping unique characters to their index in `chars`\n",
    "char_indices = dict((char, chars.index(char)) for char in chars)\n",
    "\n",
    "# Next, one-hot encode the characters into binary arrays.\n",
    "print('Vectorization...')\n",
    "x = np.zeros((len(sentences), maxlen, len(chars)), dtype=np.bool)\n",
    "y = np.zeros((len(sentences), len(chars)), dtype=np.bool)\n",
    "for i, sentence in enumerate(sentences):\n",
    "    for t, char in enumerate(sentence):\n",
    "        x[i, t, char_indices[char]] = 1\n",
    "    y[i, char_indices[next_chars[i]]] = 1"
   ]
  },
  {
   "cell_type": "code",
   "execution_count": 8,
   "metadata": {},
   "outputs": [
    {
     "name": "stderr",
     "output_type": "stream",
     "text": [
      "Using TensorFlow backend.\n",
      "/home/karan/anaconda3/lib/python3.6/importlib/_bootstrap.py:219: RuntimeWarning: compiletime version 3.5 of module 'tensorflow.python.framework.fast_tensor_util' does not match runtime version 3.6\n",
      "  return f(*args, **kwds)\n"
     ]
    }
   ],
   "source": [
    "from keras import layers, models, optimizers\n",
    "\n",
    "model = models.Sequential()\n",
    "model.add(layers.LSTM(256, input_shape=(maxlen, len(chars))))\n",
    "model.add(layers.Dense(len(chars), activation='softmax'))"
   ]
  },
  {
   "cell_type": "code",
   "execution_count": 9,
   "metadata": {},
   "outputs": [],
   "source": [
    "optimizer = optimizers.RMSprop(lr=0.01)\n",
    "model.compile(loss='categorical_crossentropy', optimizer=optimizer)"
   ]
  },
  {
   "cell_type": "code",
   "execution_count": 10,
   "metadata": {},
   "outputs": [],
   "source": [
    "def sample(preds, temperature=1.0):\n",
    "    preds = np.asarray(preds).astype('float64')\n",
    "    preds = np.log(preds) / temperature\n",
    "    exp_preds = np.exp(preds)\n",
    "    preds = exp_preds / np.sum(exp_preds)\n",
    "    probas = np.random.multinomial(1, preds, 1)\n",
    "    return np.argmax(probas)"
   ]
  },
  {
   "cell_type": "code",
   "execution_count": 11,
   "metadata": {},
   "outputs": [
    {
     "name": "stdout",
     "output_type": "stream",
     "text": [
      "Epoch 1/1\n",
      "23317/23317 [==============================] - 21s 896us/step - loss: 2.4753\n"
     ]
    },
    {
     "data": {
      "text/plain": [
       "<keras.callbacks.History at 0x7fb3ce03f400>"
      ]
     },
     "execution_count": 11,
     "metadata": {},
     "output_type": "execute_result"
    }
   ],
   "source": [
    "# Fit the model for 1 epoch on the available training data\n",
    "model.fit(x, y, batch_size=128, epochs=1)"
   ]
  },
  {
   "cell_type": "code",
   "execution_count": 12,
   "metadata": {},
   "outputs": [
    {
     "name": "stdout",
     "output_type": "stream",
     "text": [
      "Seed Text 0: \"12345012891409508077112936723812988717110342647427\"\n",
      "OG Text   0: \"49106855535974859693038918160012345678901234567890\"\n",
      "\n",
      "Seed Text 1: \"48257384163345324571240058061193213424345856768940\"\n",
      "OG Text   1: \"94947416137383324487643687079565230414056126348595\"\n",
      "\n",
      "Seed Text 2: \"33570686399827710178901234567801234789786419384470\"\n",
      "OG Text   2: \"19287826065333914061006211778460703687152494364172\"\n",
      "\n"
     ]
    }
   ],
   "source": [
    "import random\n",
    "import sys\n",
    "\n",
    "chars_to_generate = 50\n",
    "test_to_perform = 3\n",
    "\n",
    "seed_text = []\n",
    "text_to_generate = []\n",
    "\n",
    "for epoch in range(test_to_perform):\n",
    "\n",
    "    # Select a text seed at random\n",
    "    start_index = random.randint(0, len(text) - maxlen - 1)\n",
    "    end_index = start_index + maxlen\n",
    "    \n",
    "    seed_text.append(text[start_index: end_index])\n",
    "    text_to_generate.append(text[end_index: end_index + chars_to_generate])\n",
    "\n",
    "    \n",
    "    print('Seed Text {}: \"'.format(epoch) + str(seed_text[epoch]) + '\"')\n",
    "    print('OG Text   {}: \"'.format(epoch) + str(text_to_generate[epoch]) + '\"')       \n",
    "    print()\n",
    "    #model.save('model_epoch_{}.hdf5'.format(epoch))\n",
    "    #model.save_weights('text_generator_gigantic_weights{}.h5'.format(epoch))"
   ]
  },
  {
   "cell_type": "code",
   "execution_count": 30,
   "metadata": {},
   "outputs": [
    {
     "name": "stdout",
     "output_type": "stream",
     "text": [
      "------ temperature: 0.2\n",
      "[start]\n",
      "8811882881128881820881881811411880880888181889818yo\n",
      "8\n",
      "------ temperature: 0.5\n",
      "[start]\n",
      "8119923314881882819949904746718818118818882444937yo\n",
      "8\n",
      "------ temperature: 1.0\n",
      "[start]\n",
      "8899831462409830763092092025986714481821123284208yo\n",
      "4\n",
      "------ temperature: 1.2\n",
      "[start]\n",
      "9181942386989881508924804204510179388493571415118yo\n",
      "8\n",
      "------ temperature: 0.2\n",
      "[start]\n",
      "2288228128489823820088229882280112212212212120181yo\n",
      "1\n",
      "------ temperature: 0.5\n",
      "[start]\n",
      "1219132218468840214060282141824700002772322021028yo\n",
      "8\n",
      "------ temperature: 1.0\n",
      "[start]\n",
      "7726937924147024020989928491347268808391545204408yo\n",
      "2\n",
      "------ temperature: 1.2\n",
      "[start]\n",
      "0221909550055907108289084212985011463144672800689yo\n",
      "3\n",
      "------ temperature: 0.2\n",
      "[start]\n",
      "1219111841811911012164181481191814811019140988128yo\n",
      "2\n",
      "------ temperature: 0.5\n",
      "[start]\n",
      "3924880214291298589139498422011942868910114411211yo\n",
      "8\n",
      "------ temperature: 1.0\n",
      "[start]\n",
      "1484912128804860219682078215114131140910161231577yo\n",
      "5\n",
      "------ temperature: 1.2\n",
      "[start]\n",
      "2422909915182191199974208412195893513594110238998yo\n",
      "5\n"
     ]
    }
   ],
   "source": [
    "text_generated_0_2 = []\n",
    "text_generated_0_5 = []\n",
    "text_generated_1_0 = []\n",
    "text_generated_1_2 = []\n",
    "\n",
    "for x in range(len(seed_text)):\n",
    "    \n",
    "    for temperature in [0.2, 0.5, 1.0, 1.2]:\n",
    "        print('------ temperature:', temperature)\n",
    "        gentext = '[start]'\n",
    "        print (gentext)\n",
    "        # We generate 50 characters\n",
    "        for i in range(chars_to_generate):\n",
    "            sampled = np.zeros((1, maxlen, len(chars)))\n",
    "            for t, char in enumerate(seed_text[x]):\n",
    "                sampled[0, t, char_indices[char]] = 1.\n",
    "\n",
    "            preds = model.predict(sampled, verbose=0)[0]\n",
    "            next_index = sample(preds, temperature)\n",
    "            next_char = chars[next_index]\n",
    "\n",
    "            gentext += '{}'.format(next_char)\n",
    "            gentext = gentext[1:]\n",
    "            \n",
    "            #if i == chars_to_generate-1:\n",
    "             #   print('yo')\n",
    "            \n",
    "            sys.stdout.write(next_char)\n",
    "            sys.stdout.flush()\n",
    "        print()\n",
    "        \n",
    "        if temperature == 0.2:\n",
    "            text_generated_0_2.append(gentext)\n",
    "        if temperature == 0.5:\n",
    "            text_generated_0_5.append(gentext)\n",
    "        if temperature == 1.0:\n",
    "            text_generated_1_0.append(gentext)\n",
    "        if temperature == 1.2:\n",
    "            text_generated_1_2.append(gentext)\n"
   ]
  },
  {
   "cell_type": "code",
   "execution_count": 20,
   "metadata": {},
   "outputs": [
    {
     "name": "stdout",
     "output_type": "stream",
     "text": [
      "0 seed text:             08897444975301967102064099156122786588335928118869\n",
      "0 text to be generated:  15003517480219223543556173869506122833415964768002\n",
      "0 text generated 0.2:    \n",
      "0 text generated 0.5:    \n",
      "0 text generated 1.0:    \n",
      "0 text generated 1.2:    \n",
      "\n",
      "1 seed text:             19960392814352925895012456012345671234510456634428\n",
      "1 text to be generated:  10649723392093391523778402402478070693286057510816\n",
      "1 text generated 0.2:    \n",
      "1 text generated 0.5:    \n",
      "1 text generated 1.0:    \n",
      "1 text generated 1.2:    \n",
      "\n",
      "2 seed text:             42716398364419643912907004843632657560229658216159\n",
      "2 text to be generated:  52168786564887337370655780621727482013453336600182\n",
      "2 text generated 0.2:    \n",
      "2 text generated 0.5:    \n",
      "2 text generated 1.0:    \n",
      "2 text generated 1.2:    \n",
      "\n"
     ]
    }
   ],
   "source": [
    "for x in range(test_to_perform):\n",
    "    print ('{} seed text:            '.format(x), seed_text[x])\n",
    "    print ('{} text to be generated: '.format(x), text_to_generate[x])\n",
    "    print ('{} text generated 0.2:   '.format(x), text_generated_0_2[x])\n",
    "    print ('{} text generated 0.5:   '.format(x), text_generated_0_5[x])\n",
    "    print ('{} text generated 1.0:   '.format(x), text_generated_1_0[x])\n",
    "    print ('{} text generated 1.2:   '.format(x), text_generated_1_2[x])\n",
    "    print ()"
   ]
  },
  {
   "cell_type": "code",
   "execution_count": 25,
   "metadata": {},
   "outputs": [
    {
     "data": {
      "text/plain": [
       "''"
      ]
     },
     "execution_count": 25,
     "metadata": {},
     "output_type": "execute_result"
    }
   ],
   "source": [
    "gentext"
   ]
  },
  {
   "cell_type": "code",
   "execution_count": null,
   "metadata": {},
   "outputs": [],
   "source": []
  }
 ],
 "metadata": {
  "kernelspec": {
   "display_name": "Python 3",
   "language": "python",
   "name": "python3"
  },
  "language_info": {
   "codemirror_mode": {
    "name": "ipython",
    "version": 3
   },
   "file_extension": ".py",
   "mimetype": "text/x-python",
   "name": "python",
   "nbconvert_exporter": "python",
   "pygments_lexer": "ipython3",
   "version": "3.6.4"
  },
  "varInspector": {
   "cols": {
    "lenName": 16,
    "lenType": 16,
    "lenVar": 40
   },
   "kernels_config": {
    "python": {
     "delete_cmd_postfix": "",
     "delete_cmd_prefix": "del ",
     "library": "var_list.py",
     "varRefreshCmd": "print(var_dic_list())"
    },
    "r": {
     "delete_cmd_postfix": ") ",
     "delete_cmd_prefix": "rm(",
     "library": "var_list.r",
     "varRefreshCmd": "cat(var_dic_list()) "
    }
   },
   "types_to_exclude": [
    "module",
    "function",
    "builtin_function_or_method",
    "instance",
    "_Feature"
   ],
   "window_display": false
  }
 },
 "nbformat": 4,
 "nbformat_minor": 2
}
