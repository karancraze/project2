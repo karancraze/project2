{
 "cells": [
  {
   "cell_type": "code",
   "execution_count": 26,
   "metadata": {
    "collapsed": true
   },
   "outputs": [],
   "source": [
    "import idx2numpy\n",
    "import pandas as pd"
   ]
  },
  {
   "cell_type": "code",
   "execution_count": 27,
   "metadata": {
    "collapsed": true
   },
   "outputs": [],
   "source": [
    "x_train = idx2numpy.convert_from_file('/Users/ajinkya.parkar@ibm.com/Downloads/train-images-idx3-ubyte')"
   ]
  },
  {
   "cell_type": "code",
   "execution_count": 28,
   "metadata": {
    "collapsed": true
   },
   "outputs": [],
   "source": [
    "y_train = idx2numpy.convert_from_file('/Users/ajinkya.parkar@ibm.com/Downloads/train-labels-idx1-ubyte')"
   ]
  },
  {
   "cell_type": "code",
   "execution_count": 29,
   "metadata": {},
   "outputs": [
    {
     "data": {
      "text/plain": [
       "array([5, 0, 4, ..., 5, 6, 8], dtype=uint8)"
      ]
     },
     "execution_count": 29,
     "metadata": {},
     "output_type": "execute_result"
    }
   ],
   "source": [
    "y_train"
   ]
  },
  {
   "cell_type": "code",
   "execution_count": 54,
   "metadata": {
    "collapsed": true
   },
   "outputs": [],
   "source": [
    "zero_Images = []\n",
    "one_Images = []\n",
    "two_Images = []\n",
    "three_Images = []\n",
    "four_Images = []\n",
    "five_Images = []\n",
    "six_Images = []\n",
    "seven_Images = []\n",
    "eight_Images = []\n",
    "nine_Images = []"
   ]
  },
  {
   "cell_type": "code",
   "execution_count": 55,
   "metadata": {},
   "outputs": [],
   "source": [
    "for idx, val in enumerate(y_train):\n",
    "    if val == 0:\n",
    "        zero_Images.append(x_train[idx])\n",
    "    if val == 1:\n",
    "        one_Images.append(x_train[idx])\n",
    "    if val == 2:\n",
    "        two_Images.append(x_train[idx])\n",
    "    if val == 3:\n",
    "        three_Images.append(x_train[idx])\n",
    "    if val == 4:\n",
    "        four_Images.append(x_train[idx])\n",
    "    if val == 5:\n",
    "        five_Images.append(x_train[idx])\n",
    "    if val == 6:\n",
    "        six_Images.append(x_train[idx])\n",
    "    if val == 7:\n",
    "        seven_Images.append(x_train[idx])\n",
    "    if val == 8:\n",
    "        eight_Images.append(x_train[idx])\n",
    "    if val == 9:\n",
    "        nine_Images.append(x_train[idx])\n",
    "  \n",
    "    "
   ]
  },
  {
   "cell_type": "code",
   "execution_count": 66,
   "metadata": {},
   "outputs": [
    {
     "data": {
      "text/plain": [
       "5949"
      ]
     },
     "execution_count": 66,
     "metadata": {},
     "output_type": "execute_result"
    }
   ],
   "source": [
    "len(nine_Images)"
   ]
  },
  {
   "cell_type": "code",
   "execution_count": 67,
   "metadata": {},
   "outputs": [],
   "source": [
    "import h5py"
   ]
  },
  {
   "cell_type": "code",
   "execution_count": 68,
   "metadata": {},
   "outputs": [],
   "source": [
    "f = h5py.File(\"MNIST.h5\")\n",
    "f['zero_Images'] = zero_Images\n",
    "f['one_Images'] = one_Images\n",
    "f['two_Images'] = two_Images\n",
    "f['three_Images'] = three_Images\n",
    "f['four_Images'] = four_Images\n",
    "f['five_Images'] = five_Images\n",
    "f['six_Images'] = six_Images\n",
    "f['seven_Images'] = seven_Images\n",
    "f['eight_Images'] = eight_Images\n",
    "f['nine_Images'] = nine_Images\n",
    "f.close() "
   ]
  },
  {
   "cell_type": "code",
   "execution_count": null,
   "metadata": {},
   "outputs": [],
   "source": []
  },
  {
   "cell_type": "code",
   "execution_count": null,
   "metadata": {
    "collapsed": true
   },
   "outputs": [],
   "source": []
  }
 ],
 "metadata": {
  "kernelspec": {
   "display_name": "Python 3",
   "language": "python",
   "name": "python3"
  },
  "language_info": {
   "codemirror_mode": {
    "name": "ipython",
    "version": 3
   },
   "file_extension": ".py",
   "mimetype": "text/x-python",
   "name": "python",
   "nbconvert_exporter": "python",
   "pygments_lexer": "ipython3",
   "version": "3.5.4"
  }
 },
 "nbformat": 4,
 "nbformat_minor": 2
}
